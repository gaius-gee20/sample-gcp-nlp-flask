{
 "cells": [
  {
   "cell_type": "code",
   "execution_count": 6,
   "id": "e0490f05-13d5-4e66-88d8-5e0b4b27d419",
   "metadata": {},
   "outputs": [],
   "source": [
    "import requests\n",
    "import json\n",
    "from jupyter_dash import JupyterDash\n",
    "from dash import dcc\n",
    "from dash import html\n",
    "from dash.dependencies import Input, Output, State"
   ]
  },
  {
   "cell_type": "code",
   "execution_count": 7,
   "id": "9ef23018-a0f6-4f68-9672-d120e3a132eb",
   "metadata": {},
   "outputs": [],
   "source": [
    "url = \"https://gee-casestudy-2023-p20-team1.appspot.com/api/text\""
   ]
  },
  {
   "cell_type": "code",
   "execution_count": 8,
   "id": "874710f4-9b73-496d-b23f-fff50c9126a4",
   "metadata": {},
   "outputs": [],
   "source": [
    "# use requests library to send HTTP requests\n",
    "# in this example, GET sentiment analysis data\n",
    "#data = json.loads(requests.get(url).text)\n",
    "\n",
    "# examine data\n",
    "# data"
   ]
  },
  {
   "cell_type": "code",
   "execution_count": null,
   "id": "0442d39b-c66b-43e0-b73c-6230a15b73b4",
   "metadata": {},
   "outputs": [],
   "source": [
    "### Run ngrok to tunnel Dash app port 8050 to the outside world. \n",
    "### This command runs in the background.\n",
    "get_ipython().system_raw('ngrok http 8050 &')"
   ]
  },
  {
   "cell_type": "code",
   "execution_count": 9,
   "id": "6bb5995a-83e7-43a1-8cc4-88686eee1faf",
   "metadata": {},
   "outputs": [
    {
     "name": "stderr",
     "output_type": "stream",
     "text": [
      "/opt/conda/lib/python3.10/site-packages/dash/dash.py:525: UserWarning:\n",
      "\n",
      "JupyterDash is deprecated, use Dash instead.\n",
      "See https://dash.plotly.com/dash-in-jupyter for more details.\n",
      "\n"
     ]
    }
   ],
   "source": [
    "app = JupyterDash(__name__)\n",
    "\n",
    "app.layout = html.Div([\n",
    "    html.H1(\"Text Analysis\"),\n",
    "      \n",
    "    # THESE LINES DEMO ONE OF THE DASH CORE COMPONENT(dcc) i.e. dcc.Input\n",
    "    html.Div([\n",
    "        \"Input: \",\n",
    "        dcc.Input(id='my-input', value='What a beautiful day!', type='text')\n",
    "    ]),\n",
    "    html.Br(),\n",
    "    html.Div(id='my-output'),\n",
    "\n",
    "])\n",
    "\n",
    "@app.callback(\n",
    "    Output(component_id='my-output', component_property='children'),\n",
    "    Input(component_id='my-input', component_property='value')\n",
    ")\n",
    "def update_output_div(input_value):\n",
    "    request = {'text': input_value}\n",
    "    response = requests.post(url, request).json()        \n",
    "    sentiment = response[next(iter(response))]['sentiment']\n",
    "    return 'Result: {}'.format(sentiment)"
   ]
  },
  {
   "cell_type": "code",
   "execution_count": 10,
   "id": "f8eb1687-2668-4c23-99f9-dba03e116299",
   "metadata": {},
   "outputs": [
    {
     "data": {
      "text/html": [
       "\n",
       "        <iframe\n",
       "            width=\"100%\"\n",
       "            height=\"650\"\n",
       "            src=\"http://127.0.0.1:8050/\"\n",
       "            frameborder=\"0\"\n",
       "            allowfullscreen\n",
       "            \n",
       "        ></iframe>\n",
       "        "
      ],
      "text/plain": [
       "<IPython.lib.display.IFrame at 0x7f1295b57df0>"
      ]
     },
     "metadata": {},
     "output_type": "display_data"
    },
    {
     "name": "stdout",
     "output_type": "stream",
     "text": [
      "Dash app running on http://127.0.0.1:8050/\n"
     ]
    }
   ],
   "source": [
    "app.run_server(mode=\"external\", port=8050)"
   ]
  },
  {
   "cell_type": "code",
   "execution_count": 11,
   "id": "37b24446-e9c1-4299-a984-50f79ca613f1",
   "metadata": {},
   "outputs": [
    {
     "name": "stdout",
     "output_type": "stream",
     "text": [
      "https://3f78-34-140-198-201.ngrok-free.app\n"
     ]
    }
   ],
   "source": [
    "# Click the outputted URL.\n",
    "! curl -s http://localhost:4040/api/tunnels | python3 -c \\\n",
    "    \"import sys, json; print(json.load(sys.stdin)['tunnels'][0]['public_url'])\""
   ]
  },
  {
   "cell_type": "code",
   "execution_count": null,
   "id": "70306fe9-c04f-4155-9f4f-a6087d172a91",
   "metadata": {},
   "outputs": [],
   "source": []
  }
 ],
 "metadata": {
  "kernelspec": {
   "display_name": "Python 3 (ipykernel)",
   "language": "python",
   "name": "python3"
  },
  "language_info": {
   "codemirror_mode": {
    "name": "ipython",
    "version": 3
   },
   "file_extension": ".py",
   "mimetype": "text/x-python",
   "name": "python",
   "nbconvert_exporter": "python",
   "pygments_lexer": "ipython3",
   "version": "3.10.12"
  }
 },
 "nbformat": 4,
 "nbformat_minor": 5
}

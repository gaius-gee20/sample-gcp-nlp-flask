{
 "cells": [
  {
   "cell_type": "code",
   "execution_count": null,
   "id": "f2789409-1ed6-474e-99e5-f59fcf8a381a",
   "metadata": {
    "jupyter": {
     "source_hidden": true
    },
    "tags": []
   },
   "outputs": [],
   "source": [
    "import requests\n",
    "import json"
   ]
  },
  {
   "cell_type": "code",
   "execution_count": null,
   "id": "f50d5c7b-e58c-498e-9477-d3f70da8e1b3",
   "metadata": {
    "jupyter": {
     "source_hidden": true
    },
    "tags": []
   },
   "outputs": [],
   "source": [
    "url = \"https://gee-casestudy-2023-p20-team1.appspot.com/api/text\""
   ]
  },
  {
   "cell_type": "code",
   "execution_count": null,
   "id": "26fab9ee-e5d8-48f1-9b73-350944a189b3",
   "metadata": {
    "jupyter": {
     "source_hidden": true
    },
    "tags": []
   },
   "outputs": [],
   "source": [
    "def analyse(text):\n",
    "    request = {'text': text}\n",
    "    response = requests.post(url, request).json()        \n",
    "    sentiment = response[next(iter(response))]['sentiment']\n",
    "    if sentiment == \"positive\":\n",
    "        return 'GCP: This is definitely positive!'\n",
    "    if sentiment == \"neutral\":\n",
    "        return 'GCP: That is rather neutral'\n",
    "    return 'GCP: Could have been better'\n",
    "    #return 'This is rather {}'.format(sentiment)"
   ]
  },
  {
   "cell_type": "markdown",
   "id": "0a45a3b9-c01d-48e9-a2f8-a680130df72e",
   "metadata": {},
   "source": [
    "# Case Study (Team 1)"
   ]
  },
  {
   "cell_type": "markdown",
   "id": "467cbcbe-d87b-41cf-bee7-2c9259cb9133",
   "metadata": {},
   "source": [
    "## Purpose"
   ]
  },
  {
   "cell_type": "code",
   "execution_count": null,
   "id": "f072e53b-1957-4242-9e54-cf59d1d03e7b",
   "metadata": {},
   "outputs": [],
   "source": [
    "analyse(\"\"\"\n",
    "\n",
    "* Analyse the sentiment of DB news articles related to ESG\n",
    "\n",
    "\"\"\")"
   ]
  },
  {
   "cell_type": "markdown",
   "id": "12cfe22f-68ab-4286-8086-8dcc80ccc6fe",
   "metadata": {},
   "source": [
    "## Goals"
   ]
  },
  {
   "cell_type": "code",
   "execution_count": null,
   "id": "852337e9-7157-497f-914c-504745a7efc9",
   "metadata": {},
   "outputs": [],
   "source": [
    "analyse(\"\"\"\n",
    "\n",
    "* To expand the technical knowledge\n",
    "* Challenge ourselves with unfamiliar work\n",
    "\n",
    "\"\"\")"
   ]
  },
  {
   "cell_type": "markdown",
   "id": "931a0f3f-613e-4aee-b969-8fccfca22a4a",
   "metadata": {},
   "source": [
    "## What did we accomplish?"
   ]
  },
  {
   "cell_type": "code",
   "execution_count": null,
   "id": "f658ce55-e86f-4e2b-8ef1-f9a13d81c1f8",
   "metadata": {},
   "outputs": [],
   "source": [
    "analyse(\"\"\"\n",
    "\n",
    "* Successfully expanded the sentiment analyses to accept larger data set\n",
    "* Achieved end2end testing for the sentiment analysis\n",
    "* Identified the language conversion\n",
    "* Learned about the topic analysis NMF & LDA\n",
    "\n",
    "\"\"\")"
   ]
  },
  {
   "cell_type": "markdown",
   "id": "60a62745-abb7-48d9-b6c6-9da1910138f5",
   "metadata": {},
   "source": [
    "## How did you work as a team?"
   ]
  },
  {
   "cell_type": "code",
   "execution_count": null,
   "id": "fb4a5b92-bf62-467d-af82-65b136e77a19",
   "metadata": {},
   "outputs": [],
   "source": [
    "analyse(\"\"\"\n",
    "\n",
    "* Good communication\n",
    "* Everyone was involved\n",
    "* Knowledge sharing between members\n",
    "\n",
    "\"\"\")"
   ]
  },
  {
   "cell_type": "markdown",
   "id": "152f4507-3b4e-4843-a51e-28fbb5010b38",
   "metadata": {},
   "source": [
    "## Thank you!"
   ]
  }
 ],
 "metadata": {
  "kernelspec": {
   "display_name": "Python 3 (ipykernel)",
   "language": "python",
   "name": "python3"
  },
  "language_info": {
   "codemirror_mode": {
    "name": "ipython",
    "version": 3
   },
   "file_extension": ".py",
   "mimetype": "text/x-python",
   "name": "python",
   "nbconvert_exporter": "python",
   "pygments_lexer": "ipython3",
   "version": "3.10.12"
  }
 },
 "nbformat": 4,
 "nbformat_minor": 5
}

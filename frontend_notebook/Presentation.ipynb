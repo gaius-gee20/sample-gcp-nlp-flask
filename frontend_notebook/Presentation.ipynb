{
 "cells": [
  {
   "cell_type": "code",
   "execution_count": 7,
   "id": "f2789409-1ed6-474e-99e5-f59fcf8a381a",
   "metadata": {},
   "outputs": [],
   "source": [
    "import requests\n",
    "import json"
   ]
  },
  {
   "cell_type": "code",
   "execution_count": 8,
   "id": "f50d5c7b-e58c-498e-9477-d3f70da8e1b3",
   "metadata": {},
   "outputs": [],
   "source": [
    "url = \"https://gee-casestudy-2023-p20-team1.appspot.com/api/text\""
   ]
  },
  {
   "cell_type": "code",
   "execution_count": 9,
   "id": "26fab9ee-e5d8-48f1-9b73-350944a189b3",
   "metadata": {},
   "outputs": [],
   "source": [
    "def analyse(text):\n",
    "    request = {'text': text}\n",
    "    response = requests.post(url, request).json()        \n",
    "    sentiment = response[next(iter(response))]['sentiment']\n",
    "    return 'This is rather: {}'.format(sentiment)"
   ]
  },
  {
   "cell_type": "markdown",
   "id": "0a45a3b9-c01d-48e9-a2f8-a680130df72e",
   "metadata": {},
   "source": [
    "# Presentation"
   ]
  },
  {
   "cell_type": "markdown",
   "id": "467cbcbe-d87b-41cf-bee7-2c9259cb9133",
   "metadata": {},
   "source": [
    "## Purpose"
   ]
  },
  {
   "cell_type": "code",
   "execution_count": 11,
   "id": "680afb2e-d31b-4cd0-bbb1-1afe70eb542f",
   "metadata": {},
   "outputs": [
    {
     "data": {
      "text/plain": [
       "'This is rather: neutral'"
      ]
     },
     "execution_count": 11,
     "metadata": {},
     "output_type": "execute_result"
    }
   ],
   "source": [
    "analyse(\"\"\"\n",
    "* Analyse the sentiment of DB news articles related to ESG.\n",
    "\"\"\")"
   ]
  },
  {
   "cell_type": "markdown",
   "id": "12cfe22f-68ab-4286-8086-8dcc80ccc6fe",
   "metadata": {},
   "source": [
    "## Goals"
   ]
  },
  {
   "cell_type": "code",
   "execution_count": 11,
   "id": "5ce9582e-61b1-4ec7-bc6d-04d2a09efda7",
   "metadata": {},
   "outputs": [
    {
     "data": {
      "text/plain": [
       "'This is rather: neutral'"
      ]
     },
     "execution_count": 11,
     "metadata": {},
     "output_type": "execute_result"
    }
   ],
   "source": [
    "analyse(\"\"\"\n",
    "* To expand the technical knowledge\n",
    "* Challenge ourselves with unfamiliar work\n",
    "\"\"\")"
   ]
  },
  {
   "cell_type": "markdown",
   "id": "931a0f3f-613e-4aee-b969-8fccfca22a4a",
   "metadata": {},
   "source": [
    "## What did we accomplish?"
   ]
  },
  {
   "cell_type": "code",
   "execution_count": 11,
   "id": "dab28a90-aad4-44e1-a44e-0ea169e0d605",
   "metadata": {},
   "outputs": [
    {
     "data": {
      "text/plain": [
       "'This is rather: neutral'"
      ]
     },
     "execution_count": 11,
     "metadata": {},
     "output_type": "execute_result"
    }
   ],
   "source": [
    "analyse(\"\"\"\n",
    "* Expanded the sentiment analyses to accept larger data set\n",
    "* Test end2end for the sentiment analysis\n",
    "* Identify the language conversion\n",
    "* Learned about the topic analysis NMF & LDA\n",
    "\"\"\")"
   ]
  },
  {
   "cell_type": "markdown",
   "id": "60a62745-abb7-48d9-b6c6-9da1910138f5",
   "metadata": {},
   "source": [
    "## How did you work as a team?"
   ]
  },
  {
   "cell_type": "code",
   "execution_count": 12,
   "id": "878d66a9-fe4f-445d-9f98-1af44e6a1579",
   "metadata": {},
   "outputs": [
    {
     "data": {
      "text/plain": [
       "'This is rather: positive'"
      ]
     },
     "execution_count": 12,
     "metadata": {},
     "output_type": "execute_result"
    }
   ],
   "source": [
    "analyse(\"\"\"\n",
    "* Very good communication!\n",
    "\"\"\")"
   ]
  },
  {
   "cell_type": "code",
   "execution_count": null,
   "id": "91695c6d-6ad7-4bcd-b8fd-2168f1efc324",
   "metadata": {},
   "outputs": [],
   "source": []
  }
 ],
 "metadata": {
  "kernelspec": {
   "display_name": "Python 3 (ipykernel)",
   "language": "python",
   "name": "python3"
  },
  "language_info": {
   "codemirror_mode": {
    "name": "ipython",
    "version": 3
   },
   "file_extension": ".py",
   "mimetype": "text/x-python",
   "name": "python",
   "nbconvert_exporter": "python",
   "pygments_lexer": "ipython3",
   "version": "3.10.12"
  }
 },
 "nbformat": 4,
 "nbformat_minor": 5
}
